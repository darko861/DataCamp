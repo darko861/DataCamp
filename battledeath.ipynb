{
 "cells": [
  {
   "cell_type": "code",
   "execution_count": 2,
   "metadata": {},
   "outputs": [
    {
     "name": "stdout",
     "output_type": "stream",
     "text": [
      "['bdonly']\n"
     ]
    }
   ],
   "source": [
    "# Import pandas\n",
    "import pandas as pd\n",
    "\n",
    "# Assign spreadsheet filename: file\n",
    "file = 'PRIO Battle Deaths Dataset 3.0.xls'\n",
    "\n",
    "# Load spreadsheet: xls\n",
    "xls = pd.ExcelFile(file)\n",
    "\n",
    "# Print sheet names\n",
    "print(xls.sheet_names)\n"
   ]
  },
  {
   "cell_type": "code",
   "execution_count": 3,
   "metadata": {},
   "outputs": [
    {
     "name": "stdout",
     "output_type": "stream",
     "text": [
      "   id  year  bdeadlow  bdeadhig  bdeadbes  annualdata  source  bdversion  \\\n",
      "0   1  1946      1000      9999      1000           2       1          3   \n",
      "1   1  1952       450      3000      -999           2       1          3   \n",
      "2   1  1967        25       999        82           2       1          3   \n",
      "3   2  1946        25       999      -999           0       0          3   \n",
      "4   2  1947        25       999      -999           0       0          3   \n",
      "\n",
      "   location    sidea  ... epend  ependdate ependprec  gwnoa gwnoa2nd  gwnob  \\\n",
      "0   Bolivia  Bolivia  ...     1 1946-07-21     -99.0    145      NaN    NaN   \n",
      "1   Bolivia  Bolivia  ...     1 1952-04-12     -99.0    145      NaN    NaN   \n",
      "2   Bolivia  Bolivia  ...     1 1967-10-16     -99.0    145      NaN    NaN   \n",
      "3  Cambodia   France  ...     0        NaT       NaN    220      NaN    NaN   \n",
      "4  Cambodia   France  ...     0        NaT       NaN    220      NaN    NaN   \n",
      "\n",
      "   gwnob2nd  gwnoloc region  version  \n",
      "0       NaN      145      5   2009-4  \n",
      "1       NaN      145      5   2009-4  \n",
      "2       NaN      145      5   2009-4  \n",
      "3       NaN      811      3   2009-4  \n",
      "4       NaN      811      3   2009-4  \n",
      "\n",
      "[5 rows x 32 columns]\n"
     ]
    }
   ],
   "source": [
    "# Load a sheet into a DataFrame by index: df1\n",
    "df1 = xls.parse(0)\n",
    "\n",
    "# Print the head of the DataFrame df1\n",
    "print(df1.head())"
   ]
  },
  {
   "cell_type": "code",
   "execution_count": 5,
   "metadata": {},
   "outputs": [
    {
     "data": {
      "text/plain": [
       "Index(['id', 'year', 'bdeadlow', 'bdeadhig', 'bdeadbes', 'annualdata',\n",
       "       'source', 'bdversion', 'location', 'sidea', 'sidea2nd', 'sideb',\n",
       "       'sideb2nd', 'incomp', 'terr', 'int', 'cumint', 'type', 'startdate',\n",
       "       'startprec', 'startdate2', 'startprec2', 'epend', 'ependdate',\n",
       "       'ependprec', 'gwnoa', 'gwnoa2nd', 'gwnob', 'gwnob2nd', 'gwnoloc',\n",
       "       'region', 'version'],\n",
       "      dtype='object')"
      ]
     },
     "execution_count": 5,
     "metadata": {},
     "output_type": "execute_result"
    }
   ],
   "source": [
    "df1.columns"
   ]
  },
  {
   "cell_type": "code",
   "execution_count": 6,
   "metadata": {},
   "outputs": [
    {
     "name": "stdout",
     "output_type": "stream",
     "text": [
      "   id no  Year  bdeadlow  bdeadhig  bdeadbes  annualdata  source  bdversion  \\\n",
      "0      1  1952       450      3000      -999           2       1          3   \n",
      "1      1  1967        25       999        82           2       1          3   \n",
      "2      2  1946        25       999      -999           0       0          3   \n",
      "3      2  1947        25       999      -999           0       0          3   \n",
      "4      2  1948        25       999      -999           0       0          3   \n",
      "\n",
      "   location    sidea  ... epend  ependdate ependprec  gwnoa gwnoa2nd  gwnob  \\\n",
      "0   Bolivia  Bolivia  ...     1 1952-04-12     -99.0    145      NaN    NaN   \n",
      "1   Bolivia  Bolivia  ...     1 1967-10-16     -99.0    145      NaN    NaN   \n",
      "2  Cambodia   France  ...     0        NaT       NaN    220      NaN    NaN   \n",
      "3  Cambodia   France  ...     0        NaT       NaN    220      NaN    NaN   \n",
      "4  Cambodia   France  ...     0        NaT       NaN    220      NaN    NaN   \n",
      "\n",
      "   gwnob2nd  gwnoloc region  version  \n",
      "0       NaN      145      5   2009-4  \n",
      "1       NaN      145      5   2009-4  \n",
      "2       NaN      811      3   2009-4  \n",
      "3       NaN      811      3   2009-4  \n",
      "4       NaN      811      3   2009-4  \n",
      "\n",
      "[5 rows x 32 columns]\n"
     ]
    }
   ],
   "source": [
    "# Parse the first sheet and rename the columns: df1\n",
    "df1 = xls.parse(0, skiprows=[1], names=['id no', 'Year', 'bdeadlow', 'bdeadhig', 'bdeadbes', 'annualdata',\n",
    "       'source', 'bdversion', 'location', 'sidea', 'sidea2nd', 'sideb',\n",
    "       'sideb2nd', 'incomp', 'terr', 'int', 'cumint', 'type', 'startdate',\n",
    "       'startprec', 'startdate2', 'startprec2', 'epend', 'ependdate',\n",
    "       'ependprec', 'gwnoa', 'gwnoa2nd', 'gwnob', 'gwnob2nd', 'gwnoloc',\n",
    "       'region', 'version'])\n",
    "\n",
    "# Print the head of the DataFrame df1\n",
    "print(df1.head())"
   ]
  },
  {
   "cell_type": "code",
   "execution_count": 9,
   "metadata": {},
   "outputs": [
    {
     "name": "stdout",
     "output_type": "stream",
     "text": [
      "    Country\n",
      "0   Bolivia\n",
      "1   Bolivia\n",
      "2  Cambodia\n",
      "3  Cambodia\n",
      "4  Cambodia\n"
     ]
    }
   ],
   "source": [
    "# Parse the first column of the second sheet and rename the column: df1\n",
    "df1 = xls.parse(0, usecols=[8], skiprows=1, names=['Country'])\n",
    "\n",
    "# Print the head of the DataFrame df1\n",
    "print(df1.head())"
   ]
  },
  {
   "cell_type": "code",
   "execution_count": null,
   "metadata": {},
   "outputs": [],
   "source": []
  },
  {
   "cell_type": "code",
   "execution_count": null,
   "metadata": {},
   "outputs": [],
   "source": []
  },
  {
   "cell_type": "code",
   "execution_count": null,
   "metadata": {},
   "outputs": [],
   "source": []
  },
  {
   "cell_type": "code",
   "execution_count": null,
   "metadata": {},
   "outputs": [],
   "source": []
  },
  {
   "cell_type": "code",
   "execution_count": null,
   "metadata": {},
   "outputs": [],
   "source": []
  },
  {
   "cell_type": "code",
   "execution_count": null,
   "metadata": {},
   "outputs": [],
   "source": []
  },
  {
   "cell_type": "code",
   "execution_count": null,
   "metadata": {},
   "outputs": [],
   "source": []
  },
  {
   "cell_type": "code",
   "execution_count": null,
   "metadata": {},
   "outputs": [],
   "source": []
  },
  {
   "cell_type": "code",
   "execution_count": null,
   "metadata": {},
   "outputs": [],
   "source": []
  },
  {
   "cell_type": "code",
   "execution_count": null,
   "metadata": {},
   "outputs": [],
   "source": []
  },
  {
   "cell_type": "code",
   "execution_count": null,
   "metadata": {},
   "outputs": [],
   "source": []
  },
  {
   "cell_type": "code",
   "execution_count": null,
   "metadata": {},
   "outputs": [],
   "source": []
  },
  {
   "cell_type": "code",
   "execution_count": null,
   "metadata": {},
   "outputs": [],
   "source": []
  },
  {
   "cell_type": "code",
   "execution_count": null,
   "metadata": {},
   "outputs": [],
   "source": []
  },
  {
   "cell_type": "code",
   "execution_count": null,
   "metadata": {},
   "outputs": [],
   "source": []
  }
 ],
 "metadata": {
  "kernelspec": {
   "display_name": "Python 3",
   "language": "python",
   "name": "python3"
  },
  "language_info": {
   "codemirror_mode": {
    "name": "ipython",
    "version": 3
   },
   "file_extension": ".py",
   "mimetype": "text/x-python",
   "name": "python",
   "nbconvert_exporter": "python",
   "pygments_lexer": "ipython3",
   "version": "3.8.2"
  }
 },
 "nbformat": 4,
 "nbformat_minor": 4
}
